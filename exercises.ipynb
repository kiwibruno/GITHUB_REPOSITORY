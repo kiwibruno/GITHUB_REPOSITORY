{
 "cells": [
  {
   "cell_type": "code",
   "execution_count": 12,
   "id": "63eba7a4",
   "metadata": {},
   "outputs": [
    {
     "name": "stdout",
     "output_type": "stream",
     "text": [
      "Hello World\n"
     ]
    }
   ],
   "source": [
    "print('Hello World')"
   ]
  },
  {
   "cell_type": "code",
   "execution_count": 13,
   "id": "c919c8e1",
   "metadata": {},
   "outputs": [
    {
     "name": "stdout",
     "output_type": "stream",
     "text": [
      "Bruno2022\n"
     ]
    }
   ],
   "source": [
    "integer = 2022\n",
    "name = 'Bruno'\n",
    "istring_number = '22'\n",
    "print(name + str(integer))"
   ]
  },
  {
   "cell_type": "markdown",
   "id": "f41f1dfb",
   "metadata": {},
   "source": [
    "## Python in Action\n",
    "\n",
    "Exercise 1\n",
    "\n",
    "In your file create a variable called my_name with your name as the value. Put your name inside string quotes, e.g., \"my name\". Then add a line of code to print the variable name.\n",
    "\n",
    "Save your file and run the cell. You should see your name printed. If not, investigate and fix it.\n",
    "\n",
    "Exercise 2\n",
    "\n",
    "Create a variable called age with a number that is your age. Do not use string quotes for numbers.\n",
    "\n",
    "Add a line to print that variable. Save the file and run the cell. You should see your age.\n"
   ]
  },
  {
   "cell_type": "code",
   "execution_count": 14,
   "id": "68767d4e",
   "metadata": {},
   "outputs": [
    {
     "name": "stdout",
     "output_type": "stream",
     "text": [
      "Bruno 34\n",
      "HelloBruno\n"
     ]
    }
   ],
   "source": [
    "name = 'Bruno'\n",
    "age = '34'\n",
    "\n",
    "print(name, age)\n",
    "print('Hello' + name)"
   ]
  },
  {
   "cell_type": "markdown",
   "id": "4ae1a958",
   "metadata": {},
   "source": [
    "Exercise 3\n",
    "\n",
    "Create a variable called julia_age with the value 32. Create another variable called age_diff and set it to an expression that calculates your age minus Julia's age. Print your age and the value of age_diff. If you are younger than Julia, age_diff should be a negative number."
   ]
  },
  {
   "cell_type": "code",
   "execution_count": 15,
   "id": "9455ae02",
   "metadata": {},
   "outputs": [
    {
     "name": "stdout",
     "output_type": "stream",
     "text": [
      "False\n"
     ]
    },
    {
     "ename": "NameError",
     "evalue": "name 'myage' is not defined",
     "output_type": "error",
     "traceback": [
      "\u001b[31m---------------------------------------------------------------------------\u001b[39m",
      "\u001b[31mNameError\u001b[39m                                 Traceback (most recent call last)",
      "\u001b[36mCell\u001b[39m\u001b[36m \u001b[39m\u001b[32mIn[15]\u001b[39m\u001b[32m, line 5\u001b[39m\n\u001b[32m      3\u001b[39m age_diff = my_age - julia_age\n\u001b[32m      4\u001b[39m \u001b[38;5;28mprint\u001b[39m(\u001b[38;5;28mint\u001b[39m(my_age) == \u001b[38;5;28mint\u001b[39m(julia_age))\n\u001b[32m----> \u001b[39m\u001b[32m5\u001b[39m \u001b[38;5;28mprint\u001b[39m(\u001b[43mmyage\u001b[49m>julia_age)\n\u001b[32m      6\u001b[39m \u001b[38;5;28mprint\u001b[39m(age_diff)\n\u001b[32m      7\u001b[39m \u001b[38;5;28mprint\u001b[39m(\u001b[33m\"\u001b[39m\u001b[33mMy age:\u001b[39m\u001b[33m\"\u001b[39m, my_age)\n",
      "\u001b[31mNameError\u001b[39m: name 'myage' is not defined"
     ]
    }
   ],
   "source": [
    "my_age = 34\n",
    "julia_age = 32\n",
    "age_diff = my_age - julia_age\n",
    "print(int(my_age) == int(julia_age))\n",
    "print(myage>julia_age)\n",
    "print(age_diff)\n",
    "print(\"My age:\", my_age)\n",
    "print(\"Age difference (me - Julia):\", age_diff)"
   ]
  },
  {
   "cell_type": "markdown",
   "id": "547f8bec",
   "metadata": {},
   "source": [
    "## Writing Code with Conditionals\n",
    "\n",
    "Conditionals are forms used in programming to tell the computer to do different things, depending on some test, e.g., \"if the user is logged in, say \"Hi\", else say \"Please log in.\"\n",
    "\n",
    "The most basic conditional form is if...else...\n",
    "\n",
    "Exercise 4\n",
    "\n",
    "Write a conditional that compares the variable holding your age with the number 21. It should print either \"You are older than 21\" or \"You are not older than 21\", appropriately, depending on your age. Save your file and run the cell. Make sure you see the correct message. Try changing your age in the file to make sure the other message prints when it should.\n",
    "\n",
    "Exercise 5\n",
    "\n",
    "Write a conditional that compares your age with Julia's age. This conditional will need to test if you are older, younger, or the same age, and print, appropriately, either \"Julia is older than you\", \"Julia is younger than you\", or \"You are the same age as Julia\".\n",
    "\n",
    "Save your changes and run the cell."
   ]
  },
  {
   "cell_type": "code",
   "execution_count": null,
   "id": "68d42e41",
   "metadata": {},
   "outputs": [],
   "source": [
    "age = 21\n",
    "\n",
    "if age >= 21:\n",
    "    print('You are older than 21')\n",
    "elif age == 18:\n",
    "    print('You are not older than 21')\n",
    "else:\n",
    "    print('You are still young')"
   ]
  },
  {
   "cell_type": "code",
   "execution_count": null,
   "id": "429ccf25",
   "metadata": {},
   "outputs": [],
   "source": [
    "julia_age = 32\n",
    "my_age = 34\n",
    "\n",
    "if myage > julia_age:\n",
    "    print('Julia is younger than you')\n",
    "elif myage < julia_age:\n",
    "    print('Julia is older than you')\n",
    "elif myage == julia_age:\n",
    "    print('You are the same age as Julia')"
   ]
  },
  {
   "cell_type": "markdown",
   "id": "3bae3141",
   "metadata": {},
   "source": [
    "## Lists and Loops\n",
    "\n",
    "Exercise 6\n",
    "\n",
    "Create a list with all the names of your class (including mentors). Sort the list alphabetically, then print the first element of the list.\n",
    "On the next line, print the last element of the list.\n",
    "On the next line, print all the elements of the list (use a \"for\" loop).\n",
    "\n",
    "Exercise 7\n",
    "\n",
    "Create a list with all the ages of the students in your class. Iterate through the list using a for loop, and then print every age. Add a conditional inside the loop to only print even ages (Hint: have a look for Python's modulus operator).\n",
    "Try to do the same thing using a while loop.\n",
    "\n",
    "Exercise 8\n",
    "\n",
    "Write a list containing numbers and print the lowest number.\n",
    "\n",
    "Exercise 9\n",
    "\n",
    "Write a list containing numbers and print the highest number.\n",
    "\n",
    "Exercise 10\n",
    "\n",
    "Given below is a list of 10 customers with year of birth, however, the list can be as large as several thousands of customers."
   ]
  },
  {
   "cell_type": "code",
   "execution_count": 17,
   "id": "fdcd1411",
   "metadata": {},
   "outputs": [
    {
     "name": "stdout",
     "output_type": "stream",
     "text": [
      "['bruno', 'marco', 'janina', 'rahul', 'bo']\n"
     ]
    }
   ],
   "source": [
    "# Create a list with all the names of your class (including mentors).\n",
    "\n",
    "my_class_names = [\"bruno\", \"marco\", \"janina\", \"rahul\", \"bo\"]\n",
    "\n",
    "print(my_class_names)"
   ]
  },
  {
   "cell_type": "code",
   "execution_count": 18,
   "id": "ec158c59",
   "metadata": {},
   "outputs": [
    {
     "name": "stdout",
     "output_type": "stream",
     "text": [
      "bruno\n",
      "marco\n",
      "janina\n",
      "rahul\n",
      "bo\n"
     ]
    }
   ],
   "source": [
    "# On the next line, print all the elements of the list (use a \"for\" loop).\n",
    "\n",
    "for names in my_class_names:\n",
    "    print(names)"
   ]
  },
  {
   "cell_type": "code",
   "execution_count": null,
   "id": "45e64ec8",
   "metadata": {},
   "outputs": [
    {
     "name": "stdout",
     "output_type": "stream",
     "text": [
      "23\n",
      "55\n",
      "27\n",
      "8\n",
      "19\n",
      "32\n"
     ]
    }
   ],
   "source": [
    "# List with all the ages of the students in your class\n",
    "\n",
    "my_class_ages = [23,55,27,8,19,32]\n",
    "\n",
    "for ages in my_class_ages:\n",
    "    print(ages)"
   ]
  },
  {
   "cell_type": "code",
   "execution_count": 19,
   "id": "2d4a1b73",
   "metadata": {},
   "outputs": [
    {
     "name": "stdout",
     "output_type": "stream",
     "text": [
      "8\n"
     ]
    }
   ],
   "source": [
    "# Write a list containing numbers and print the lowest number.\n",
    "\n",
    "my_class_ages = [23,55,27,8,19,32]\n",
    "\n",
    "smallest = min(my_class_ages)\n",
    "print(smallest)"
   ]
  },
  {
   "cell_type": "code",
   "execution_count": null,
   "id": "7a004ac3",
   "metadata": {},
   "outputs": [],
   "source": [
    "# Write a list containing numbers and print the highest number.\n",
    "\n",
    "highest = max(my_class_ages)\n",
    "print(highest)"
   ]
  },
  {
   "cell_type": "code",
   "execution_count": 20,
   "id": "a8771ade",
   "metadata": {},
   "outputs": [
    {
     "name": "stdout",
     "output_type": "stream",
     "text": [
      "1999 : 26\n",
      "1995 : 30\n",
      "2005 : 20\n",
      "2010 : 15\n",
      "2007 : 18\n",
      "2006 : 19\n",
      "1994 : 31\n",
      "1996 : 29\n",
      "1979 : 46\n",
      "2008 : 17\n"
     ]
    }
   ],
   "source": [
    "# Exercise 10 - Given below is a list of 10 customers with year of birth, however, the list can be as large as several thousands of customers.\n",
    "\n",
    "my_list_birthdays = [1999, 1995, 2005, 2010, 2007, 2006, 1994, 1996, 1979, 2008]\n",
    "today = 2025\n",
    "\n",
    "ages = []\n",
    "\n",
    "for birth_year in my_list_birthdays:\n",
    "    actual_age = today - birth_year\n",
    "    #print(\"Students born in\", birth_year, \"are today\", actual_age, \"years old.\")\n",
    "    print(birth_year, \":\", actual_age)"
   ]
  },
  {
   "cell_type": "code",
   "execution_count": 21,
   "id": "6108bd6b",
   "metadata": {},
   "outputs": [
    {
     "name": "stdout",
     "output_type": "stream",
     "text": [
      "Bob : 1999\n",
      "Bob is today 26 years old.\n",
      "Jack : 1995\n",
      "Jack is today 30 years old.\n",
      "Lisa : 2005\n",
      "Lisa is today 20 years old.\n",
      "Maria : 2010\n",
      "Maria is today 15 years old.\n",
      "Ben : 2007\n",
      "Ben is today 18 years old.\n",
      "Emma : 2006\n",
      "Emma is today 19 years old.\n",
      "Oscar : 1994\n",
      "Oscar is today 31 years old.\n",
      "Amy : 1996\n",
      "Amy is today 29 years old.\n",
      "Paul : 1979\n",
      "Paul is today 46 years old.\n",
      "Etta : 2008\n",
      "Etta is today 17 years old.\n"
     ]
    }
   ],
   "source": [
    "# Exercise 11 Given below is a list of 10 customers with name and year of birth, however, the list can be as large as several thousands of customers.\n",
    "\n",
    "customer_list = [\n",
    "    {\"name\": \"Bob\", \"age\": 1999},\n",
    "    {\"name\": \"Jack\", \"age\": 1995},\n",
    "    {\"name\": \"Lisa\", \"age\": 2005},\n",
    "    {\"name\": \"Maria\", \"age\": 2010},\n",
    "    {\"name\": \"Ben\", \"age\": 2007},\n",
    "    {\"name\": \"Emma\", \"age\": 2006},\n",
    "    {\"name\": \"Oscar\", \"age\": 1994},\n",
    "    {\"name\": \"Amy\", \"age\": 1996},\n",
    "    {\"name\": \"Paul\", \"age\": 1979},\n",
    "    {\"name\": \"Etta\", \"age\": 2008}\n",
    "]\n",
    "\n",
    "today = 2025\n",
    "\n",
    "for customer in customer_list:\n",
    "    name = customer[\"name\"]\n",
    "    birth_year = customer[\"age\"]\n",
    "    actual_age = today - birth_year\n",
    "    print(name, \":\", birth_year)\n",
    "    print(name, \"is today\", actual_age, \"years old.\")\n"
   ]
  },
  {
   "cell_type": "code",
   "execution_count": null,
   "id": "ec15232f",
   "metadata": {},
   "outputs": [],
   "source": [
    "customer_list = [\n",
    "    {\"name\": \"Bob\", \"age\": 1999, \"country\": \"Argentina\"},\n",
    "    {\"name\": \"Jack\", \"age\": 1995, \"country\": \"Brasil\"},\n",
    "    {\"name\": \"Lisa\", \"age\": 2005, \"country\": \"Germany\"},\n",
    "    {\"name\": \"Maria\", \"age\": 2010, \"country\": \"Austria\"},\n",
    "    {\"name\": \"Ben\", \"age\": 2007, \"country\": \"Spain\"},\n",
    "    {\"name\": \"Emma\", \"age\": 2006, \"country\": \"Portugal\"},\n",
    "    {\"name\": \"Oscar\", \"age\": 1994, \"country\": \"Colombia\"},\n",
    "    {\"name\": \"Amy\", \"age\": 1996, \"country\": \"Chile\"},\n",
    "    {\"name\": \"Paul\", \"age\": 1979, \"country\": \"Costa Rica\"},\n",
    "    {\"name\": \"Etta\", \"age\": 2008, \"country\": \"Belgium\"}\n",
    "]\n",
    "today = 2025\n",
    "\n",
    "for customer in customer_list:\n",
    "    name = customer[\"name\"]\n",
    "    birth_year = customer[\"age\"]\n",
    "    country = customer[\"country\"]\n",
    "    actual_age = today - birth_year\n",
    "    print(name, \"born in\", birth_year, \"and from\", country, \"is today\", actual_age, \"year old.\")\n"
   ]
  },
  {
   "cell_type": "code",
   "execution_count": 22,
   "id": "c7bdef61",
   "metadata": {},
   "outputs": [
    {
     "name": "stdout",
     "output_type": "stream",
     "text": [
      "20\n",
      "24\n",
      "14\n",
      "23\n"
     ]
    }
   ],
   "source": [
    "# Exercise 12 Given a list of ages, remove the youngest and the oldest person.\n",
    "\n",
    "ages = [20, 24, 14, 9, 12, 13, 25, 23, 40, 11]\n",
    "\n",
    "for i in ages:\n",
    "    ages.remove(min(ages))\n",
    "    ages.remove(max(ages)) \n",
    "\n",
    "    print(i)\n",
    "\n",
    "    # i dont know how else i can do it. "
   ]
  },
  {
   "cell_type": "code",
   "execution_count": 23,
   "id": "e24644ad",
   "metadata": {},
   "outputs": [
    {
     "name": "stdout",
     "output_type": "stream",
     "text": [
      "[11, 12, 13, 14, 20, 23, 24, 25]\n"
     ]
    }
   ],
   "source": [
    "ages = [20, 24, 14, 9, 12, 13, 25, 23, 40, 11]\n",
    "\n",
    "ages.sort()\n",
    "new_list = ages[1:-1]\n",
    "print(new_list)"
   ]
  },
  {
   "cell_type": "code",
   "execution_count": 27,
   "id": "4e9fdf1d",
   "metadata": {},
   "outputs": [
    {
     "name": "stdout",
     "output_type": "stream",
     "text": [
      "[15, 13, 16, 18, 19, 10, 12, 7, 20]\n"
     ]
    }
   ],
   "source": [
    "# Exercise 13 - You have two lists with ages of customers from different cities. The task is to create a new list with the common ages.\n",
    "\n",
    "berlin = [15, 13, 16, 18, 19, 10, 12 ]\n",
    "munich = [7, 13, 15, 20, 19, 18, 10, 16]\n",
    "\n",
    "two_cities = berlin + munich\n",
    "new_list = []\n",
    "\n",
    "for age in two_cities:\n",
    "    if age not in new_list:\n",
    "        new_list.append(age)\n",
    "\n",
    "print(new_list)"
   ]
  },
  {
   "cell_type": "code",
   "execution_count": null,
   "id": "7eeb7b53",
   "metadata": {},
   "outputs": [
    {
     "name": "stdout",
     "output_type": "stream",
     "text": [
      "[7, 10, 12, 13, 15, 16, 18, 19, 20]\n"
     ]
    }
   ],
   "source": [
    "berlin = [15, 13, 16, 18, 19, 10, 12]\n",
    "munich = [7, 13, 15, 20, 19, 18, 10, 16]\n",
    "\n",
    "two_cities = berlin + munich\n",
    "new_list = list(set(two_cities))\n",
    "\n",
    "print(new_list)\n"
   ]
  },
  {
   "cell_type": "code",
   "execution_count": null,
   "id": "b965073c",
   "metadata": {},
   "outputs": [
    {
     "name": "stdout",
     "output_type": "stream",
     "text": [
      "[15, 13, 16, 18, 19, 10]\n"
     ]
    }
   ],
   "source": [
    "# Exercise 14 - You have a list with ages.\n",
    "\n",
    "ages = [15, 13, 16, 18, 19, 15, 10]\n",
    "\n",
    "new_list = []\n",
    "\n",
    "for age in ages:\n",
    "    if age not in new_list:\n",
    "        new_list.append(age)\n",
    "\n",
    "print(new_list)"
   ]
  },
  {
   "cell_type": "code",
   "execution_count": null,
   "id": "32c49e09",
   "metadata": {},
   "outputs": [],
   "source": [
    "ages = [15, 13, 16, 18, 19, 15, 10]\n",
    "\n",
    "new_list = list(set(ages))\n",
    "\n",
    "print(new_list)"
   ]
  },
  {
   "cell_type": "markdown",
   "id": "883ceb89",
   "metadata": {},
   "source": [
    "## Functions"
   ]
  },
  {
   "cell_type": "code",
   "execution_count": 25,
   "id": "51f0d8d5",
   "metadata": {},
   "outputs": [
    {
     "name": "stdout",
     "output_type": "stream",
     "text": [
      "Welcome Bruno, have a nice day!\n",
      "Welcome Bo, have a nice day!\n"
     ]
    }
   ],
   "source": [
    "# Exercise 15 - Write a function that takes a person's name and prints a custom message for them. E.g. Function name: welcome\n",
    "\n",
    "# welcome('Evelyn') would print- 'Welcome Evelyn, have a nice day!'\n",
    "\n",
    "# welcome('Jost'), would print - 'Welcome Jost, have a nice day!'\n",
    "\n",
    "def welcome_example(name):\n",
    "    return f\"Welcome {name}, have a nice day!\" \n",
    "\n",
    "print(welcome_example(\"Bruno\"))\n",
    "print(welcome_example(\"Bo\"))"
   ]
  },
  {
   "cell_type": "code",
   "execution_count": 28,
   "id": "bf5621e5",
   "metadata": {},
   "outputs": [
    {
     "name": "stdout",
     "output_type": "stream",
     "text": [
      "5\n",
      "2\n"
     ]
    }
   ],
   "source": [
    "# Exercise 16 - Write a function that takes a string as input and calculates the length.\n",
    "\n",
    "# Function name: get_length\n",
    "\n",
    "# get_length('Hello') would print / return 5.\n",
    "\n",
    "# get_length('Hi') would print / return 2.\n",
    "\n",
    "def get_lenght(num):\n",
    "    return len(num)\n",
    "\n",
    "print(get_lenght('Hello'))\n",
    "print(get_lenght('Hi'))"
   ]
  },
  {
   "cell_type": "code",
   "execution_count": 29,
   "id": "8bee8e8a",
   "metadata": {},
   "outputs": [
    {
     "data": {
      "text/plain": [
       "'No'"
      ]
     },
     "execution_count": 29,
     "metadata": {},
     "output_type": "execute_result"
    }
   ],
   "source": [
    "# Exercise 17 - Write a function which checks whether a number is even.\n",
    "\n",
    "# Function name: check_even\n",
    "\n",
    "# check_even(6) would print / return 'Yes'\n",
    "\n",
    "# check_even(5) would print / return 'No'\n",
    "\n",
    "def check_even(num):\n",
    "    if num % 2 == 0:\n",
    "        return \"Yes\"\n",
    "    return \"No\"\n",
    "\n",
    "check_even(3)\n"
   ]
  },
  {
   "cell_type": "code",
   "execution_count": 30,
   "id": "517647a3",
   "metadata": {},
   "outputs": [
    {
     "name": "stdout",
     "output_type": "stream",
     "text": [
      "Bob is today 26 years old!\n",
      "Jack is today 30 years old!\n",
      "Lisa is today 20 years old!\n",
      "Maria is today 15 years old!\n",
      "Ben is today 18 years old!\n",
      "Emma is today 19 years old!\n",
      "Oscar is today 31 years old!\n",
      "Amy is today 29 years old!\n",
      "Paul is today 46 years old!\n",
      "Etta is today 17 years old!\n"
     ]
    }
   ],
   "source": [
    "# Exercise 18 - Rewrite exercises 11, 12, 13, and 14 in a function.\n",
    "\n",
    "customer_list = [\n",
    "    {\"name\": \"Bob\", \"age\": 1999},\n",
    "    {\"name\": \"Jack\", \"age\": 1995},\n",
    "    {\"name\": \"Lisa\", \"age\": 2005},\n",
    "    {\"name\": \"Maria\", \"age\": 2010},\n",
    "    {\"name\": \"Ben\", \"age\": 2007},\n",
    "    {\"name\": \"Emma\", \"age\": 2006},\n",
    "    {\"name\": \"Oscar\", \"age\": 1994},\n",
    "    {\"name\": \"Amy\", \"age\": 1996},\n",
    "    {\"name\": \"Paul\", \"age\": 1979},\n",
    "    {\"name\": \"Etta\", \"age\": 2008}\n",
    "]\n",
    "\n",
    "def calculate_age(customer):\n",
    "    today = 2025\n",
    "    return f\"{customer['name']} is today {today - customer['age']} years old!\" \n",
    "\n",
    "for customer in customer_list:\n",
    "    print(calculate_age(customer))\n"
   ]
  },
  {
   "cell_type": "code",
   "execution_count": 31,
   "id": "5fc79de1",
   "metadata": {},
   "outputs": [
    {
     "name": "stdout",
     "output_type": "stream",
     "text": [
      "[40, 9, 11, 12, 13, 14, 20, 23, 24, 25]\n"
     ]
    }
   ],
   "source": [
    "ages = [20, 24, 14, 9, 12, 13, 25, 23, 40, 11]\n",
    "\n",
    "def remove_duplicates(num):\n",
    "   return list(set(num))\n",
    "\n",
    "print(remove_duplicates(ages))"
   ]
  },
  {
   "cell_type": "code",
   "execution_count": null,
   "id": "02bfc097",
   "metadata": {},
   "outputs": [
    {
     "name": "stdout",
     "output_type": "stream",
     "text": [
      "My name is Bob. I was born in 1999 years old and today is 2025. Am i over 20? True\n",
      "My name is Jack. I was born in 1995 years old and today is 2025. Am i over 20? True\n",
      "My name is Lisa. I was born in 2005 years old and today is 2025. Am i over 20? False\n",
      "My name is Maria. I was born in 2010 years old and today is 2025. Am i over 20? False\n",
      "My name is Ben. I was born in 2007 years old and today is 2025. Am i over 20? False\n"
     ]
    }
   ],
   "source": [
    "# Exercise 19 - Write a function that takes a list of integers and also a single integer as inputs. \n",
    "# It should return true or false if the single integer value is present or not in the list.\n",
    "\n",
    "customer_list = [\n",
    "    {\"name\": \"Bob\", \"age\": 1999},\n",
    "    {\"name\": \"Jack\", \"age\": 1995},\n",
    "    {\"name\": \"Lisa\", \"age\": 2005},\n",
    "    {\"name\": \"Maria\", \"age\": 2010},\n",
    "    {\"name\": \"Ben\", \"age\": 2007}\n",
    "]\n",
    "\n",
    "# Age calculation\n",
    "def calculate_age(person):\n",
    "    today = 2025\n",
    "    if today - person[\"age\"] > 20:\n",
    "        return \"True\"\n",
    "    return \"False\"\n",
    "\n",
    "# Print the restult\n",
    "\n",
    "for person in customer_list:\n",
    "    print(f\"My name is {person[\"name\"]}. I was born in {person[\"age\"]} years old and today is 2025. Am i over 20? {calculate_age(person)}\")\n"
   ]
  }
 ],
 "metadata": {
  "kernelspec": {
   "display_name": "CodeAcademy",
   "language": "python",
   "name": "python3"
  },
  "language_info": {
   "codemirror_mode": {
    "name": "ipython",
    "version": 3
   },
   "file_extension": ".py",
   "mimetype": "text/x-python",
   "name": "python",
   "nbconvert_exporter": "python",
   "pygments_lexer": "ipython3",
   "version": "3.12.11"
  }
 },
 "nbformat": 4,
 "nbformat_minor": 5
}
