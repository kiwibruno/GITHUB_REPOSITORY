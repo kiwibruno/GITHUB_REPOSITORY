{
 "cells": [
  {
   "cell_type": "code",
   "execution_count": 26,
   "id": "8ab71bc6",
   "metadata": {},
   "outputs": [
    {
     "name": "stdout",
     "output_type": "stream",
     "text": [
      "26\n",
      "30\n",
      "20\n",
      "15\n",
      "18\n",
      "19\n",
      "31\n",
      "29\n",
      "46\n",
      "17\n"
     ]
    }
   ],
   "source": [
    "years_customers = [1999, 1995, 2005, 2010, 2007, 2006, 1994, 1996, 1979, 2008]\n",
    "\n",
    "today = 2025\n",
    "new_list = []\n",
    "\n",
    "# Age calculation\n",
    "for year in years_customers:\n",
    "    age = today - year\n",
    "    print(age)"
   ]
  },
  {
   "cell_type": "code",
   "execution_count": 34,
   "id": "7162fa41",
   "metadata": {},
   "outputs": [
    {
     "name": "stdout",
     "output_type": "stream",
     "text": [
      "[11, 12, 13, 14, 20, 23, 24, 25]\n"
     ]
    }
   ],
   "source": [
    "ages = [20, 24, 14, 9, 12, 13, 25, 23, 40, 11]\n",
    "\n",
    "ages.sort ()\n",
    "newlist_ages = ages[1:-1]\n",
    "print(newlist_ages)"
   ]
  },
  {
   "cell_type": "code",
   "execution_count": 41,
   "id": "41868962",
   "metadata": {},
   "outputs": [
    {
     "name": "stdout",
     "output_type": "stream",
     "text": [
      "[15, 13, 16, 18, 19, 10, 12, 7, 20]\n"
     ]
    }
   ],
   "source": [
    "berlin = [15, 13, 16, 18, 19, 10, 12 ]\n",
    "munich = [7, 13, 15, 20, 19, 18, 10, 16]\n",
    "\n",
    "two_cities = berlin + munich\n",
    "new_list = []\n",
    "\n",
    "for ages in two_cities:\n",
    "    if ages not in new_list:\n",
    "        new_list.append(ages)\n",
    "\n",
    "print(new_list)"
   ]
  },
  {
   "cell_type": "code",
   "execution_count": 42,
   "id": "25de33c4",
   "metadata": {},
   "outputs": [
    {
     "name": "stdout",
     "output_type": "stream",
     "text": [
      "[10, 13, 15, 16, 18, 19]\n"
     ]
    }
   ],
   "source": [
    "ages = [15,13,16,18,19,15,10]\n",
    "\n",
    "new_list = list(set(ages))\n",
    "\n",
    "print(new_list)"
   ]
  },
  {
   "cell_type": "code",
   "execution_count": 52,
   "id": "6a31a1a4",
   "metadata": {},
   "outputs": [
    {
     "name": "stdout",
     "output_type": "stream",
     "text": [
      "True\n",
      "False\n"
     ]
    }
   ],
   "source": [
    "list_ages = [15,13,16,18,19,15,10]\n",
    "\n",
    "def check_ages(num):\n",
    "    for ages in list_ages:\n",
    "        if ages == num:\n",
    "            return \"True\"\n",
    "    return \"False\"\n",
    "\n",
    "print(check_ages(15))\n",
    "print(check_ages(28))"
   ]
  },
  {
   "cell_type": "code",
   "execution_count": 61,
   "id": "eafe5c63",
   "metadata": {},
   "outputs": [
    {
     "name": "stdout",
     "output_type": "stream",
     "text": [
      "11\n"
     ]
    }
   ],
   "source": [
    "list_ages = [2, 4, 0, 100, 4, 11, 2602, 36]\n",
    "\n",
    "def check_odd():\n",
    "    for age in list_ages:\n",
    "        if age % 2 != 0:\n",
    "            return age\n",
    "\n",
    "print(check_odd())"
   ]
  },
  {
   "cell_type": "code",
   "execution_count": 63,
   "id": "6e19a8a1",
   "metadata": {},
   "outputs": [
    {
     "name": "stdout",
     "output_type": "stream",
     "text": [
      "160\n"
     ]
    }
   ],
   "source": [
    "list_ages = [160, 3, 1719, 19, 11, 13, -21]\n",
    "\n",
    "def check_even():\n",
    "    for age in list_ages:\n",
    "        if age % 2 == 0:\n",
    "            return age\n",
    "\n",
    "print(check_even())"
   ]
  }
 ],
 "metadata": {
  "kernelspec": {
   "display_name": "CodeAcademy",
   "language": "python",
   "name": "python3"
  },
  "language_info": {
   "codemirror_mode": {
    "name": "ipython",
    "version": 3
   },
   "file_extension": ".py",
   "mimetype": "text/x-python",
   "name": "python",
   "nbconvert_exporter": "python",
   "pygments_lexer": "ipython3",
   "version": "3.12.11"
  }
 },
 "nbformat": 4,
 "nbformat_minor": 5
}
